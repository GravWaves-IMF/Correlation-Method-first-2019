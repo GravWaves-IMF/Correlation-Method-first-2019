{
 "cells": [
  {
   "cell_type": "markdown",
   "metadata": {},
   "source": [
    "#  Plotting the Backgrounds for the Significance of Correlations Statistic\n",
    "\n",
    "**Paolo Marcoccia<sup>1</sup>, Felicia Frederiksson<sup>2</sup>, Alex B. Nielsen<sup>1</sup> and Germano Nardini<sup>1</sup>**\n",
    "\n",
    "<sub>1. University of Stavanger, Institutt for Matematikk og Fysikk, Kjølv Egelands hus, 5.etg, E-blokk, 4021 Stavanger, Norway </sub> <br>\n",
    "<sub>2. University of Uppsala, Department of Physics and Astronomy,Ångströmlaboratoriet, Lägerhyddsvägen 1, 751 20 Uppsala, Sweden</sub> \n",
    "\n",
    "We encourage use of these data in derivative works. If you use the material provided here, please cite [our paper.]()"
   ]
  },
  {
   "cell_type": "markdown",
   "metadata": {},
   "source": [
    "In this notebook, we will learn how to generate the [AllBackgrounds.png](https://github.com/GravWaves-IMF/Correlation-Method-first-2019-/blob/master/Code/AllBackgrounds.png) figure, that will be needed to give a statistical significance to the obtained correlations for the various events.\n",
    "All the following, may be considered as an application of the notebook by [A. Nielsen et al.](https://github.com/KuZa91/gw150914_investigation) for generating the [figure 3](https://github.com/KuZa91/gw150914_investigation/blob/master/Fig3_Background.ipynb) of the related paper, while additional informations on how to generate multiple subplots may be found in the book of [Jake VanderPlas D.S Handbook](https://jakevdp.github.io/PythonDataScienceHandbook/04.08-multiple-subplots.html).\n",
    "In order to run this pipeline, however, you need to run the previously cited notebook by applying the 3 different frequency setup for the whitening used for the 4 various events, this analysis will be done on the [GW150914](https://github.com/GravWaves-IMF/Correlation-Method-first-2019-/tree/master/Code/GW150914) strain data, at the GPS time reported in [tevent.py](https://github.com/GravWaves-IMF/Correlation-Method-first-2019-/blob/master/Code/Backgrounds/tevent.py) that is 5 mins after the considered event coalescence time.\n",
    "Furthermore, theorically we also need to generate the [CorrVsTime.csv](https://github.com/GravWaves-IMF/Correlation-Method-first-2019-/blob/master/Code/GW150914/CorrVsTime.csv) dataframe obtained by running the [CorrVsTime.ipynb](https://github.com/GravWaves-IMF/Correlation-Method-first-2019-/blob/master/Code/CorrVsTime.ipynb) in order to find the time of max correlation and the corresponding values of original strain correlation, and residual correlation for each of the considered event.\n",
    "From the [Code](https://github.com/GravWaves-IMF/Correlation-Method-first-2019-/blob/master/Code) directory, let's start by moving in the [backgrounds](https://github.com/GravWaves-IMF/Correlation-Method-first-2019-/tree/master/Code/Backgrounds) directory and loading the modules :"
   ]
  },
  {
   "cell_type": "code",
   "execution_count": 1,
   "metadata": {},
   "outputs": [
    {
     "name": "stdout",
     "output_type": "stream",
     "text": [
      "/home/kuza91/Documents/IPyNB/GWO1/Backgrounds\n"
     ]
    }
   ],
   "source": [
    "%cd Backgrounds/\n",
    "%run init_module.py\n",
    "%run EvCorr.py"
   ]
  },
  {
   "cell_type": "markdown",
   "metadata": {},
   "source": [
    "Let's also run the [BigFont.py](https://github.com/GravWaves-IMF/Correlation-Method-first-2019-/blob/master/Code/BigFont.py) script in order to increase the font size of the plot.\n",
    "The setting, may be easily changed from the previous file in order to personalize the final output of this notebook."
   ]
  },
  {
   "cell_type": "code",
   "execution_count": 2,
   "metadata": {},
   "outputs": [],
   "source": [
    "%run BigFont.py"
   ]
  },
  {
   "cell_type": "markdown",
   "metadata": {},
   "source": [
    "and let's load the required datasets for the analysis :"
   ]
  },
  {
   "cell_type": "code",
   "execution_count": 3,
   "metadata": {},
   "outputs": [],
   "source": [
    "dist_breal_small_freq = np.loadtxt('bkg_real50-230.txt')\n",
    "dist_breal_mid_freq = np.loadtxt('bkg_real35-350.txt')\n",
    "dist_breal_big_freq = np.loadtxt('bkg_real50-460.txt')\n",
    "dist_bfake_small_freq = np.loadtxt('bkg_simulated50-230.txt')\n",
    "dist_bfake_mid_freq = np.loadtxt('bkg_simulated35-350.txt')\n",
    "dist_bfake_big_freq = np.loadtxt('bkg_simulated50-460.txt')"
   ]
  },
  {
   "cell_type": "markdown",
   "metadata": {},
   "source": [
    "We may start plotting the results, let's create a multiple subplot :"
   ]
  },
  {
   "cell_type": "code",
   "execution_count": 4,
   "metadata": {},
   "outputs": [
    {
     "data": {
      "text/plain": [
       "Text(0.5,0.06,u'$C(\\\\tau, \\\\delta $\\u03c4$, t, \\\\omega)$')"
      ]
     },
     "execution_count": 4,
     "metadata": {},
     "output_type": "execute_result"
    },
    {
     "data": {
      "image/png": "[encoded data removed]",
      "text/plain": [
       "<Figure size 1152x648 with 4 Axes>"
      ]
     },
     "metadata": {
      "needs_background": "light"
     },
     "output_type": "display_data"
    }
   ],
   "source": [
    "fig, ax = plt.subplots(2, 2, sharex='col', sharey='row', figsize =[16,9])\n",
    "plt.subplots_adjust(wspace = 0.12, hspace = 0.1)\n",
    "fig.text(0.06, 0.5, 'P-Value', va = 'center', rotation='vertical')\n",
    "fig.text(0.5, 0.06, r'$C(\\tau, \\delta $'+u'τ'+'$, t, \\omega)$', ha = 'center')"
   ]
  },
  {
   "cell_type": "markdown",
   "metadata": {},
   "source": [
    "The main structure of the plot is done, let's fullfill the single subplots :"
   ]
  },
  {
   "cell_type": "code",
   "execution_count": 5,
   "metadata": {
    "scrolled": true
   },
   "outputs": [
    {
     "data": {
      "text/plain": [
       "<matplotlib.lines.Line2D at 0x7f3f90f84250>"
      ]
     },
     "execution_count": 5,
     "metadata": {},
     "output_type": "execute_result"
    }
   ],
   "source": [
    "# Plotting the GW150914 Background results\n",
    "\n",
    "for dist, label, color, in zip([dist_breal_mid_freq, dist_bfake_mid_freq], ['Off-source LIGO Data Distribution', 'Colored Gaussian Noise Distribution'], ['black', 'crimson']):\n",
    "    dist = np.array(dist)\n",
    "    dist.sort()\n",
    "    x = np.arange(len(dist), 0, -1)\n",
    "    ax[0,0].plot(dist, x / float(len(x)), label=label, color=color)\n",
    "\n",
    "ax[0,0].set_title('GW150914') \n",
    "ax[0,0].set_xlim(0,1)\n",
    "ax[0,0].set_ylim(1e-6, 1e0)\n",
    "ax[0,0].set_yscale('log')\n",
    "ax[0,0].axvline(ev1_osc, label='Original Data Max Correlation', color='navy', linestyle='--')\n",
    "ax[0,0].axvline(ev1_rc, label='Residuals Correlation at the time of Max Correlation', color='violet', linestyle='--')"
   ]
  },
  {
   "cell_type": "code",
   "execution_count": 6,
   "metadata": {},
   "outputs": [
    {
     "data": {
      "text/plain": [
       "<matplotlib.lines.Line2D at 0x7f3f90f42290>"
      ]
     },
     "execution_count": 6,
     "metadata": {},
     "output_type": "execute_result"
    }
   ],
   "source": [
    "# Plotting the GW151012 Background results\n",
    "\n",
    "for dist, label, color, in zip([dist_breal_small_freq, dist_bfake_small_freq], ['Off-source LIGO Data Distribution', 'Colored Gaussian Noise Distribution'], ['black', 'crimson']):\n",
    "    dist = np.array(dist)\n",
    "    dist.sort()\n",
    "    x = np.arange(len(dist), 0, -1)\n",
    "    ax[0,1].plot(dist, x / float(len(x)), label=label, color=color)\n",
    "\n",
    "ax[0,1].set_title('GW151012') \n",
    "ax[0,1].set_xlim(0,1)\n",
    "ax[0,1].set_ylim(1e-6, 1e0)\n",
    "ax[0,1].set_yscale('log')\n",
    "ax[0,1].axvline(ev2_osc, label='Original Data Max Correlation', color='navy', linestyle='--')\n",
    "ax[0,1].axvline(ev2_rc, label='Residuals Correlation at the time of Max Correlation', color='violet', linestyle='--')"
   ]
  },
  {
   "cell_type": "code",
   "execution_count": 7,
   "metadata": {},
   "outputs": [
    {
     "data": {
      "text/plain": [
       "<matplotlib.lines.Line2D at 0x7f3f90efb2d0>"
      ]
     },
     "execution_count": 7,
     "metadata": {},
     "output_type": "execute_result"
    }
   ],
   "source": [
    "# Plotting the GW151226 Background results\n",
    "\n",
    "for dist, label, color, in zip([dist_breal_big_freq, dist_bfake_big_freq], ['Off-source LIGO Data Distribution', 'Colored Gaussian Noise Distribution'], ['black', 'crimson']):\n",
    "    dist = np.array(dist)\n",
    "    dist.sort()\n",
    "    x = np.arange(len(dist), 0, -1)\n",
    "    ax[1,0].plot(dist, x / float(len(x)), label=label, color=color)\n",
    "\n",
    "ax[1,0].set_title('GW151226') \n",
    "ax[1,0].set_xlim(0,1)\n",
    "ax[1,0].set_ylim(1e-6, 1e0)\n",
    "ax[1,0].set_yscale('log')\n",
    "ax[1,0].axvline(ev3_osc, label='Original Data Max Correlation', color='navy', linestyle='--')\n",
    "ax[1,0].axvline(ev3_rc, label='Residuals Correlation at the time of Max Correlation', color='violet', linestyle='--')"
   ]
  },
  {
   "cell_type": "code",
   "execution_count": 8,
   "metadata": {},
   "outputs": [
    {
     "data": {
      "text/plain": [
       "<matplotlib.legend.Legend at 0x7f3f90984590>"
      ]
     },
     "execution_count": 8,
     "metadata": {},
     "output_type": "execute_result"
    }
   ],
   "source": [
    "# Plotting the GW170104 Background results\n",
    "\n",
    "for dist, label, color, in zip([dist_breal_small_freq, dist_bfake_small_freq], ['Off-source LIGO Data Distribution', 'Colored Gaussian Noise Distribution'], ['black', 'crimson']):\n",
    "    dist = np.array(dist)\n",
    "    dist.sort()\n",
    "    x = np.arange(len(dist), 0, -1)\n",
    "    ax[1,1].plot(dist, x / float(len(x)), label=label, color=color)\n",
    "\n",
    "ax[1,1].set_title('GW170104') \n",
    "ax[1,1].set_xlim(0,1)\n",
    "ax[1,1].set_ylim(1e-6, 1e0)\n",
    "ax[1,1].set_yscale('log')\n",
    "ax[1,1].axvline(ev4_osc, label='Original Data Max Correlation', color='navy', linestyle='--')\n",
    "ax[1,1].axvline(ev4_rc, label='Residuals Correlation', color='violet', linestyle='--')\n",
    "ax[1,1].legend(loc = 3)"
   ]
  },
  {
   "cell_type": "markdown",
   "metadata": {},
   "source": [
    "The figure obtained may be saved by running :"
   ]
  },
  {
   "cell_type": "code",
   "execution_count": 9,
   "metadata": {},
   "outputs": [
    {
     "name": "stdout",
     "output_type": "stream",
     "text": [
      "/home/kuza91/Documents/IPyNB/GWO1\n"
     ]
    }
   ],
   "source": [
    "%cd .. \n",
    "fig.savefig('AllBackgrounds.png',dpi = 200)"
   ]
  }
 ],
 "metadata": {
  "kernelspec": {
   "display_name": "Python 2",
   "language": "python",
   "name": "python2"
  },
  "language_info": {
   "codemirror_mode": {
    "name": "ipython",
    "version": 2
   },
   "file_extension": ".py",
   "mimetype": "text/x-python",
   "name": "python",
   "nbconvert_exporter": "python",
   "pygments_lexer": "ipython2",
   "version": "2.7.16"
  }
 },
 "nbformat": 4,
 "nbformat_minor": 2
}
